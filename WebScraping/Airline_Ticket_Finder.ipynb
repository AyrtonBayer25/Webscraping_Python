{
 "cells": [
  {
   "cell_type": "code",
   "execution_count": 1,
   "metadata": {},
   "outputs": [],
   "source": [
    "from selenium import webdriver\n",
    "from selenium.webdriver.common.by import By\n",
    "from selenium.webdriver.common.keys import Keys\n",
    "import pandas as pd"
   ]
  },
  {
   "cell_type": "code",
   "execution_count": 2,
   "metadata": {},
   "outputs": [],
   "source": [
    "import time\n",
    "import datetime"
   ]
  },
  {
   "cell_type": "code",
   "execution_count": 3,
   "metadata": {},
   "outputs": [],
   "source": [
    "#connecting email address\n",
    "import smtplib\n",
    "from email.mime.multipart import MIMEMultipart"
   ]
  },
  {
   "cell_type": "code",
   "execution_count": 4,
   "metadata": {},
   "outputs": [],
   "source": [
    "#inputting web browser\n",
    "browser = webdriver.Firefox(executable_path='C:\\webdriver\\geckodriver.exe')"
   ]
  },
  {
   "cell_type": "code",
   "execution_count": 5,
   "metadata": {},
   "outputs": [],
   "source": [
    "\n",
    "#Setting ticket types paths\n",
    "return_ticket = \"//label[@id='flight-type-roundtrip-label-hp-flight']\"\n",
    "one_way_ticket = \"//label[@id='flight-type-one-way-label-hp-flight']\"\n",
    "multi_ticket = \"//label[@id='flight-type-multi-dest-label-hp-flight']\""
   ]
  },
  {
   "cell_type": "code",
   "execution_count": 6,
   "metadata": {},
   "outputs": [],
   "source": [
    "def ticket_chooser(ticket):\n",
    "    try:\n",
    "        ticket_type = browser.find_element_by_xpath(ticket)\n",
    "        ticket_type.click()\n",
    "    except Exception as e:\n",
    "        pass"
   ]
  },
  {
   "cell_type": "code",
   "execution_count": 7,
   "metadata": {},
   "outputs": [],
   "source": [
    "def dep_country_chooser(dep_country):\n",
    "    fly_from = browser.find_element_by_xpath(\"//input[@id='flight-origin-hp-flight']\")\n",
    "    time.sleep(1)\n",
    "    fly_from.clear()\n",
    "    time.sleep(2)\n",
    "    fly_from.send_keys('  ' + dep_country)\n",
    "    time.sleep(2)\n",
    "    first_item = browser.find_element_by_xpath(\"//a[@id='aria-option-0']\")\n",
    "    time.sleep(2)\n",
    "    first_item.click()"
   ]
  },
  {
   "cell_type": "code",
   "execution_count": 8,
   "metadata": {},
   "outputs": [],
   "source": [
    "def arrival_country_chooser(arrival_country):\n",
    "    fly_to = browser.find_element_by_xpath(\"//input[@id='flight-destination-hp-flight']\")\n",
    "    time.sleep(1)\n",
    "    fly_to.clear()\n",
    "    time.sleep(2)\n",
    "    fly_to.send_keys('  ' + arrival_country)\n",
    "    time.sleep(2)\n",
    "    first_item = browser.find_element_by_xpath(\"//a[@id='aria-option-0']\")\n",
    "    time.sleep(2)\n",
    "    first_item.click()"
   ]
  },
  {
   "cell_type": "code",
   "execution_count": 9,
   "metadata": {},
   "outputs": [],
   "source": [
    "def dep_date_chooser(month, day, year):\n",
    "    dep_date_button = browser.find_element_by_xpath(\"//input[@id='flight-departing-hp-flight']\")\n",
    "    dep_date_button.clear()\n",
    "    dep_date_button.send_keys(month + '/' + day + '/' + year)"
   ]
  },
  {
   "cell_type": "code",
   "execution_count": 10,
   "metadata": {},
   "outputs": [],
   "source": [
    "def return_date_chooser(month, day, year):\n",
    "    return_date_button = browser.find_element_by_xpath(\"//input[@id='flight-returning-hp-flight']\")\n",
    "    for i in range(11):\n",
    "        return_date_button.send_keys(Keys.BACKSPACE)\n",
    "    return_date_button.send_keys(month + '/' + day + '/' + year)"
   ]
  },
  {
   "cell_type": "code",
   "execution_count": 11,
   "metadata": {},
   "outputs": [],
   "source": [
    "def search():\n",
    "    search = browser.find_element_by_xpath(\"//button[@class='btn-primary btn-action gcw-submit']\")\n",
    "    search.click()\n",
    "    time.sleep(15)\n",
    "    print('Results ready!')"
   ]
  },
  {
   "cell_type": "code",
   "execution_count": 12,
   "metadata": {},
   "outputs": [],
   "source": [
    "df = pd.DataFrame()\n",
    "def compile_data():\n",
    "    global df\n",
    "    global dep_times_list\n",
    "    global arr_times_list\n",
    "    global airlines_list\n",
    "    global price_list\n",
    "    global durations_list\n",
    "    global stops_list\n",
    "    global layovers_list\n",
    "    #departure times\n",
    "    dep_times = browser.find_elements_by_xpath(\"//span[@data-test-id='departure-time']\")\n",
    "    dep_times_list = [value.text for value in dep_times]\n",
    "    #arrival times\n",
    "    arr_times = browser.find_elements_by_xpath(\"//span[@data-test-id='arrival-time']\")\n",
    "    arr_times_list = [value.text for value in arr_times]\n",
    "    #airline name\n",
    "    airlines = browser.find_elements_by_xpath(\"//span[@data-test-id='airline-name']\")\n",
    "    airlines_list = [value.text for value in airlines]\n",
    "    #prices\n",
    "    prices = browser.find_elements_by_xpath(\"//span[@data-test-id='listing-price-dollars']\")\n",
    "    price_list = [value.text.split('')[1] for value in prices]\n",
    "    #durations\n",
    "    durations = browser.find_elements_by_xpath(\"//span[@data-test-id='duration']\")\n",
    "    durations_list = [value.text for value in durations]\n",
    "    #stops\n",
    "    stops = browser.find_elements_by_xpath(\"//span[@class='number-stops']\")\n",
    "    stops_list = [value.text for value in stops]\n",
    "    #layovers\n",
    "    layovers = browser.find_elements_by_xpath(\"//span[@data-test-id='layover-airport-stops']\")\n",
    "    layovers_list = [value.text for value in layovers]\n",
    "    now = datetime.datetime.now()\n",
    "    current_date = (str(now.year) + '-' + str(now.month) + '-' + str(now.day))\n",
    "    current_time = (str(now.hour) + ':' + str(now.minute))\n",
    "    current_price = 'price' + '(' + current_date + '---' + current_time + ')'\n",
    "    for i in range(len(dep_times_list)):\n",
    "        try:\n",
    "            df.loc[i, 'departure_time'] = dep_times_list[i]\n",
    "        except Exception as e:\n",
    "            pass\n",
    "        try:\n",
    "            df.loc[i, 'arrival_time'] = arr_times_list[i]\n",
    "        except Exception as e:\n",
    "            pass\n",
    "        try:\n",
    "            df.loc[i, 'airline'] = airlines_list[i]\n",
    "        except Exception as e:\n",
    "            pass\n",
    "        try:\n",
    "            df.loc[i, 'duration'] = durations_list[i]\n",
    "        except Exception as e:\n",
    "            pass\n",
    "        try:\n",
    "            df.loc[i, 'stops'] = stops_list[i]\n",
    "        except Exception as e:\n",
    "            pass\n",
    "        try:\n",
    "            df.loc[i, 'layovers'] = layovers_list[i]\n",
    "        except Exception as e:\n",
    "            pass\n",
    "        try:\n",
    "            df.loc[i, str(current_price)] = price_list[i]\n",
    "        except Exception as e:\n",
    "            pass\n",
    "    print('Excel Sheet Created!')"
   ]
  },
  {
   "cell_type": "code",
   "execution_count": 13,
   "metadata": {},
   "outputs": [],
   "source": [
    "now = datetime.datetime.now()\n",
    "current_date = (str(now.year) + '-' + str(now.month) + '-' + str(now.day))\n",
    "current_time = (str(now.hour) + ':' + str(now.minute))\n",
    "current_price = 'price' + '(' + current_date + '---' + current_time + ')'"
   ]
  },
  {
   "cell_type": "code",
   "execution_count": 18,
   "metadata": {},
   "outputs": [
    {
     "name": "stdout",
     "output_type": "stream",
     "text": [
      "Results ready!\n"
     ]
    },
    {
     "ename": "TypeError",
     "evalue": "compile_data() takes 0 positional arguments but 1 was given",
     "output_type": "error",
     "traceback": [
      "\u001b[1;31m---------------------------------------------------------------------------\u001b[0m",
      "\u001b[1;31mTypeError\u001b[0m                                 Traceback (most recent call last)",
      "\u001b[1;32m<ipython-input-18-cb0294b54d69>\u001b[0m in \u001b[0;36m<module>\u001b[1;34m\u001b[0m\n\u001b[0;32m     12\u001b[0m     \u001b[0mreturn_date_chooser\u001b[0m\u001b[1;33m(\u001b[0m\u001b[1;34m'04'\u001b[0m\u001b[1;33m,\u001b[0m \u001b[1;34m'15'\u001b[0m\u001b[1;33m,\u001b[0m \u001b[1;34m'2020'\u001b[0m\u001b[1;33m)\u001b[0m\u001b[1;33m\u001b[0m\u001b[1;33m\u001b[0m\u001b[0m\n\u001b[0;32m     13\u001b[0m     \u001b[0msearch\u001b[0m\u001b[1;33m(\u001b[0m\u001b[1;33m)\u001b[0m\u001b[1;33m\u001b[0m\u001b[1;33m\u001b[0m\u001b[0m\n\u001b[1;32m---> 14\u001b[1;33m     \u001b[0mcompile_data\u001b[0m\u001b[1;33m(\u001b[0m\u001b[1;34m\" \"\u001b[0m\u001b[1;33m)\u001b[0m\u001b[1;33m\u001b[0m\u001b[1;33m\u001b[0m\u001b[0m\n\u001b[0m\u001b[0;32m     15\u001b[0m \u001b[1;33m\u001b[0m\u001b[0m\n\u001b[0;32m     16\u001b[0m     \u001b[1;31m#save values for email\u001b[0m\u001b[1;33m\u001b[0m\u001b[1;33m\u001b[0m\u001b[1;33m\u001b[0m\u001b[0m\n",
      "\u001b[1;31mTypeError\u001b[0m: compile_data() takes 0 positional arguments but 1 was given"
     ]
    }
   ],
   "source": [
    "for i in range(8):    \n",
    "    link = 'https://www.expedia.com/'\n",
    "    browser.get(link)\n",
    "    time.sleep(5)\n",
    "    #choose flights only\n",
    "    flights_only = browser.find_element_by_xpath(\"//button[@id='tab-flight-tab-hp']\")\n",
    "    flights_only.click()\n",
    "    ticket_chooser(return_ticket)\n",
    "    dep_country_chooser('Paris-ORLY')\n",
    "    arrival_country_chooser('New york')\n",
    "    dep_date_chooser('04', '02', '2020')\n",
    "    return_date_chooser('04', '15', '2020')\n",
    "    search()\n",
    "    compile_data(self)"
   ]
  }
 ],
 "metadata": {
  "kernelspec": {
   "display_name": "Python 3",
   "language": "python",
   "name": "python3"
  },
  "language_info": {
   "codemirror_mode": {
    "name": "ipython",
    "version": 3
   },
   "file_extension": ".py",
   "mimetype": "text/x-python",
   "name": "python",
   "nbconvert_exporter": "python",
   "pygments_lexer": "ipython3",
   "version": "3.7.3"
  }
 },
 "nbformat": 4,
 "nbformat_minor": 2
}
