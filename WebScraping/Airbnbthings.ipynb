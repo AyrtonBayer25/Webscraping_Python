{
 "cells": [
  {
   "cell_type": "code",
   "execution_count": 5,
   "metadata": {},
   "outputs": [],
   "source": [
    "from selenium import webdriver\n",
    "from selenium.webdriver.common.by import By\n",
    "from selenium.webdriver.common.keys import Keys\n",
    "import pandas as pd"
   ]
  },
  {
   "cell_type": "code",
   "execution_count": 6,
   "metadata": {},
   "outputs": [],
   "source": [
    "import time\n",
    "import datetime"
   ]
  },
  {
   "cell_type": "code",
   "execution_count": 7,
   "metadata": {},
   "outputs": [],
   "source": [
    "#inputting web browser\n",
    "browser = webdriver.Firefox(executable_path='C:\\webdriver\\geckodriver.exe')"
   ]
  },
  {
   "cell_type": "code",
   "execution_count": 8,
   "metadata": {},
   "outputs": [],
   "source": [
    "#Setting ticket types paths\n",
    "Place = \"//label[@id='Anywehere']\"\n",
    "check_in_date = \"//label[@id='checkin_input']\"\n",
    "check_out_date = \"//label[@id='checkout_input']\""
   ]
  },
  {
   "cell_type": "code",
   "execution_count": 9,
   "metadata": {},
   "outputs": [],
   "source": [
    "def Anywhere_chooser(Anywhere):\n",
    "    try:\n",
    "        Anywhere_type = browser.find_element_by_xpath(Anywhere)\n",
    "        Anywhere_type.click()\n",
    "    except Exception as e:\n",
    "        pass"
   ]
  },
  {
   "cell_type": "code",
   "execution_count": 11,
   "metadata": {},
   "outputs": [],
   "source": [
    "def dep_country_chooser(Anywhere_place):\n",
    "    fly_from = browser.find_element_by_xpath(\"//input[@id='Anywehere']\")\n",
    "    time.sleep(1)\n",
    "    fly_from.clear()\n",
    "    time.sleep(1.5)\n",
    "    fly_from.send_keys('  ' + Anywhere_plac)\n",
    "    time.sleep(1.5)\n",
    "    first_item = browser.find_element_by_xpath(\"//a[@id='aria-option-0']\")\n",
    "    time.sleep(1.5)\n",
    "    first_item.click()"
   ]
  },
  {
   "cell_type": "code",
   "execution_count": 12,
   "metadata": {},
   "outputs": [],
   "source": [
    "def arrival_date_chooser(arrival_date):\n",
    "    fly_to = browser.find_element_by_xpath(\"//input[@id='checkin_input']\")\n",
    "    time.sleep(1)\n",
    "    fly_to.clear()\n",
    "    time.sleep(1.5)\n",
    "    fly_to.send_keys('  ' + arrival_date)\n",
    "    time.sleep(1.5)\n",
    "    first_item = browser.find_element_by_xpath(\"//a[@id='aria-option-0']\")\n",
    "    time.sleep(1.5)\n",
    "    first_item.click()"
   ]
  },
  {
   "cell_type": "code",
   "execution_count": null,
   "metadata": {},
   "outputs": [],
   "source": []
  }
 ],
 "metadata": {
  "kernelspec": {
   "display_name": "Python 3",
   "language": "python",
   "name": "python3"
  },
  "language_info": {
   "codemirror_mode": {
    "name": "ipython",
    "version": 3
   },
   "file_extension": ".py",
   "mimetype": "text/x-python",
   "name": "python",
   "nbconvert_exporter": "python",
   "pygments_lexer": "ipython3",
   "version": "3.7.3"
  }
 },
 "nbformat": 4,
 "nbformat_minor": 2
}
